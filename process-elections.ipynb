{
 "cells": [
  {
   "cell_type": "markdown",
   "metadata": {},
   "source": [
    "## Программирование для журналистики данных\n",
    "Магистерская программа [«Журналистика данных»](https://www.google.ru/url?sa=t&rct=j&q=&esrc=s&source=web&cd=1&cad=rja&uact=8&ved=0ahUKEwim7bzM1YnQAhWBXiwKHcY2DXMQFggdMAA&url=https%3A%2F%2Fwww.hse.ru%2Fma%2Fdatajourn%2F&usg=AFQjCNG4iSK2wv3y8LuhNEfWjmP-Qu6sZA&sig2=6NhsKJRk52Evdj871uVSxw), факультет коммуникаций, медиа и дизайна, НИУ ВШЭ, 2017-18 учебный год.\n",
    "\n",
    "- Автор курса: Илья Щуров.\n",
    "- [Страница курса](http://math-info.hse.ru/s17/1)\n",
    "- Этот ноутбук доступен по лицензии [CC BY SA 4.0 Unported](http://creativecommons.org/licenses/by-sa/4.0/). Вы можете использовать его в любых целях при условии указания имени автора, аффилиации и ссылки на страницу курса. Все фрагменты кода также распространяются по лицензии [MIT](https://opensource.org/licenses/MIT)."
   ]
  },
  {
   "cell_type": "markdown",
   "metadata": {},
   "source": [
    "### Задачи\n",
    "\n",
    "1. В файле [electors.csv](https://github.com/ischurov/dj-prog/blob/master/elections_usa_2016/electors.csv) приведено количество выборщиков, закреплённых за каждым штатом США (по состоянию на 2016 год). В файле [results.csv](https://github.com/ischurov/dj-prog/blob/master/elections_usa_2016/results.csv) приведены искусственные результаты выборов (доля голосов за каждого кандидата по каждому штату). Считая, что все штаты инструктируют всех своих выборщиков голосовать за кандидата, набравшего большинство голосов в штате (строго говоря, это неверно: в Мэне и Небраске более сложные правила), найти победителя выборов.\n",
    "2. Написать функцию `median`, принимающую на вход несколько аргументов и возвращающую их медиану.\n",
    "3. Написать функцию `append_column(table, column, inplace)`, принимающую на вход таблицу в виде списка списков и новую колонку и добавляющую колонку в таблицу. Если `inplace` установлен в `True`, функция должна модифицировать исходную таблицу и ничего не возвращать. Если `inplace` установлен в `False`, функция должна вернуть новую таблицу, а старую не модифицировать. Если `inplace` не задан, считать, что он задан в `False`.\n",
    "4. Написать функцию `add_suffixes(strings, prefix, suffix, inplace)`, принимающую на вход список строк `strings`, строку `prefix` и строку `suffix` и приписывающую к каждой строке из `strings` `prefix` (к началу строки) и `suffix` (к концу). Если `inplace` установлен в `True`, следует модифицировать исходный список `strings` и ничего не возвращать, а если в `False`, то не модифицировать исходный список и вернуть новый список. По умолчанию считать, что `inplace` установлен в `False`."
   ]
  }
 ],
 "metadata": {
  "kernelspec": {
   "display_name": "Python 3",
   "language": "python",
   "name": "python3"
  },
  "language_info": {
   "codemirror_mode": {
    "name": "ipython",
    "version": 3
   },
   "file_extension": ".py",
   "mimetype": "text/x-python",
   "name": "python",
   "nbconvert_exporter": "python",
   "pygments_lexer": "ipython3",
   "version": "3.6.1"
  },
  "toc": {
   "toc_cell": false,
   "toc_number_sections": false,
   "toc_threshold": 6,
   "toc_window_display": false
  }
 },
 "nbformat": 4,
 "nbformat_minor": 1
}
